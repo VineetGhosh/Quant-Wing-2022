{
 "cells": [
  {
   "cell_type": "code",
   "execution_count": 1,
   "id": "07699dda",
   "metadata": {},
   "outputs": [],
   "source": [
    "import numpy as np\n",
    "from scipy.stats import norm"
   ]
  },
  {
   "cell_type": "code",
   "execution_count": 7,
   "id": "16e16cf2",
   "metadata": {},
   "outputs": [
    {
     "name": "stdout",
     "output_type": "stream",
     "text": [
      "Option price is  0.41\n"
     ]
    }
   ],
   "source": [
    "S = 30\n",
    "r = 0.01\n",
    "K = 40\n",
    "T = 300/365\n",
    "sigma = 0.25\n",
    "\n",
    "def blackScholes(r, S, K, T, sigma, type=\"call\"):\n",
    "    \n",
    "    d1 = (np.log(S/K) + (r + sigma**2/2)*T)/(sigma*np.sqrt(T))\n",
    "    d2 = d1 - sigma*np.sqrt(T)\n",
    "    \n",
    "    if type == \"call\":\n",
    "        price = S*norm.cdf(d1, 0, 1) - K*np.exp(-r*T)*norm.cdf(d2, 0, 1)\n",
    "    elif type == \"put\":\n",
    "        price = K*np.exp(-r*T)*norm.cdf(-d2, 0, 1) - S*norm.cdf(-d1, 0, 1)\n",
    "    return price\n",
    "\n",
    "print(\"Option price is \", round(blackScholes(r, S, K, T, sigma, type=\"call\"),2))\n",
    "   "
   ]
  },
  {
   "cell_type": "code",
   "execution_count": null,
   "id": "29f8aacf",
   "metadata": {},
   "outputs": [],
   "source": []
  }
 ],
 "metadata": {
  "kernelspec": {
   "display_name": "Python 3 (ipykernel)",
   "language": "python",
   "name": "python3"
  },
  "language_info": {
   "codemirror_mode": {
    "name": "ipython",
    "version": 3
   },
   "file_extension": ".py",
   "mimetype": "text/x-python",
   "name": "python",
   "nbconvert_exporter": "python",
   "pygments_lexer": "ipython3",
   "version": "3.9.7"
  }
 },
 "nbformat": 4,
 "nbformat_minor": 5
}
